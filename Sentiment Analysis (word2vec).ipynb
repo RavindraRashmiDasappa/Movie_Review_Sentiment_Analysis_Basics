{
 "cells": [
  {
   "cell_type": "code",
   "execution_count": 7,
   "metadata": {},
   "outputs": [
    {
     "name": "stdout",
     "output_type": "stream",
     "text": [
      "Read 25000 labeled train reviews, 25000 labeled test reviews, and 50000 unlabeled reviews\n",
      "\n"
     ]
    }
   ],
   "source": [
    "#/Users/rahmi/Desktop/Tuutkia/unlabeledTrainData.tsv\n",
    "\n",
    "import pandas as pd\n",
    "\n",
    "# Read data from files \n",
    "train = pd.read_csv( \"/Users/rahmi/Desktop/Tuutkia/labeledTrainData.tsv\", header=0, \n",
    " delimiter=\"\\t\", quoting=3 )\n",
    "test = pd.read_csv( \"/Users/rahmi/Desktop/Tuutkia/testData.tsv\", header=0, delimiter=\"\\t\", quoting=3 )\n",
    "unlabeled_train = pd.read_csv( \"/Users/rahmi/Desktop/Tuutkia/unlabeledTrainData.tsv\", header=0, \n",
    " delimiter=\"\\t\", quoting=3 )\n",
    "\n",
    "# Verify the number of reviews that were read (100,000 in total)\n",
    "print (\"Read %d labeled train reviews, %d labeled test reviews, \" \\\n",
    " \"and %d unlabeled reviews\\n\" % (train[\"review\"].size,  \n",
    " test[\"review\"].size, unlabeled_train[\"review\"].size ))"
   ]
  },
  {
   "cell_type": "code",
   "execution_count": 8,
   "metadata": {},
   "outputs": [],
   "source": [
    "# Import various modules for string cleaning\n",
    "from bs4 import BeautifulSoup\n",
    "import re\n",
    "from nltk.corpus import stopwords\n",
    "\n",
    "def review_to_wordlist( review, remove_stopwords=False ):\n",
    "    # Function to convert a document to a sequence of words,\n",
    "    # optionally removing stop words.  Returns a list of words.\n",
    "    #\n",
    "    # 1. Remove HTML\n",
    "    review_text = BeautifulSoup(review,'lxml').get_text()\n",
    "    #  \n",
    "    # 2. Remove non-letters\n",
    "    review_text = re.sub(\"[^a-zA-Z]\",\" \", review_text)\n",
    "    #\n",
    "    # 3. Convert words to lower case and split them\n",
    "    words = review_text.lower().split()\n",
    "    #\n",
    "    # 4. Optionally remove stop words (false by default)\n",
    "    if remove_stopwords:\n",
    "        stops = set(stopwords.words(\"english\"))\n",
    "        words = [w for w in words if not w in stops]\n",
    "    #\n",
    "    # 5. Return a list of words\n",
    "    return(words)"
   ]
  },
  {
   "cell_type": "code",
   "execution_count": 9,
   "metadata": {},
   "outputs": [
    {
     "name": "stdout",
     "output_type": "stream",
     "text": [
      "showing info https://raw.githubusercontent.com/nltk/nltk_data/gh-pages/index.xml\n"
     ]
    }
   ],
   "source": [
    "# Download the punkt tokenizer for sentence splitting\n",
    "import nltk.data\n",
    "nltk.download()   \n",
    "\n",
    "# Load the punkt tokenizer\n",
    "tokenizer = nltk.data.load('tokenizers/punkt/english.pickle')\n",
    "\n",
    "# Define a function to split a review into parsed sentences\n",
    "def review_to_sentences( review, tokenizer, remove_stopwords=False ):\n",
    "    # Function to split a review into parsed sentences. Returns a \n",
    "    # list of sentences, where each sentence is a list of words\n",
    "    #\n",
    "    # 1. Use the NLTK tokenizer to split the paragraph into sentences\n",
    "    raw_sentences = tokenizer.tokenize(review.strip())\n",
    "    #\n",
    "    # 2. Loop over each sentence\n",
    "    sentences = []\n",
    "    for raw_sentence in raw_sentences:\n",
    "        # If a sentence is empty, skip it\n",
    "        if len(raw_sentence) > 0:\n",
    "            # Otherwise, call review_to_wordlist to get a list of words\n",
    "            sentences.append( review_to_wordlist( raw_sentence, \\\n",
    "              remove_stopwords ))\n",
    "    #\n",
    "    # Return the list of sentences (each sentence is a list of words,\n",
    "    # so this returns a list of lists\n",
    "    return sentences"
   ]
  },
  {
   "cell_type": "code",
   "execution_count": 10,
   "metadata": {},
   "outputs": [
    {
     "name": "stdout",
     "output_type": "stream",
     "text": [
      "Parsing sentences from training set\n"
     ]
    },
    {
     "name": "stderr",
     "output_type": "stream",
     "text": [
      "/anaconda3/lib/python3.6/site-packages/bs4/__init__.py:219: UserWarning: \"b'.'\" looks like a filename, not markup. You should probably open this file and pass the filehandle into Beautiful Soup.\n",
      "  ' Beautiful Soup.' % markup)\n",
      "/anaconda3/lib/python3.6/site-packages/bs4/__init__.py:282: UserWarning: \"http://www.happierabroad.com\"\" looks like a URL. Beautiful Soup is not an HTTP client. You should probably use an HTTP client like requests to get the document behind the URL, and feed that document to Beautiful Soup.\n",
      "  ' that document to Beautiful Soup.' % decoded_markup\n"
     ]
    },
    {
     "name": "stdout",
     "output_type": "stream",
     "text": [
      "Parsing sentences from unlabeled set\n"
     ]
    },
    {
     "name": "stderr",
     "output_type": "stream",
     "text": [
      "/anaconda3/lib/python3.6/site-packages/bs4/__init__.py:282: UserWarning: \"http://www.archive.org/details/LovefromaStranger\"\" looks like a URL. Beautiful Soup is not an HTTP client. You should probably use an HTTP client like requests to get the document behind the URL, and feed that document to Beautiful Soup.\n",
      "  ' that document to Beautiful Soup.' % decoded_markup\n",
      "/anaconda3/lib/python3.6/site-packages/bs4/__init__.py:282: UserWarning: \"http://www.loosechangeguide.com/LooseChangeGuide.html\"\" looks like a URL. Beautiful Soup is not an HTTP client. You should probably use an HTTP client like requests to get the document behind the URL, and feed that document to Beautiful Soup.\n",
      "  ' that document to Beautiful Soup.' % decoded_markup\n",
      "/anaconda3/lib/python3.6/site-packages/bs4/__init__.py:282: UserWarning: \"http://www.msnbc.msn.com/id/4972055/site/newsweek/\"\" looks like a URL. Beautiful Soup is not an HTTP client. You should probably use an HTTP client like requests to get the document behind the URL, and feed that document to Beautiful Soup.\n",
      "  ' that document to Beautiful Soup.' % decoded_markup\n",
      "/anaconda3/lib/python3.6/site-packages/bs4/__init__.py:219: UserWarning: \"b'..'\" looks like a filename, not markup. You should probably open this file and pass the filehandle into Beautiful Soup.\n",
      "  ' Beautiful Soup.' % markup)\n",
      "/anaconda3/lib/python3.6/site-packages/bs4/__init__.py:282: UserWarning: \"http://www.youtube.com/watch?v=a0KSqelmgN8\"\" looks like a URL. Beautiful Soup is not an HTTP client. You should probably use an HTTP client like requests to get the document behind the URL, and feed that document to Beautiful Soup.\n",
      "  ' that document to Beautiful Soup.' % decoded_markup\n",
      "/anaconda3/lib/python3.6/site-packages/bs4/__init__.py:282: UserWarning: \"http://jake-weird.blogspot.com/2007/08/beneath.html\"\" looks like a URL. Beautiful Soup is not an HTTP client. You should probably use an HTTP client like requests to get the document behind the URL, and feed that document to Beautiful Soup.\n",
      "  ' that document to Beautiful Soup.' % decoded_markup\n"
     ]
    }
   ],
   "source": [
    "sentences = []  # Initialize an empty list of sentences\n",
    "\n",
    "print (\"Parsing sentences from training set\")\n",
    "for review in train[\"review\"]:\n",
    "    sentences += review_to_sentences(review, tokenizer)\n",
    "\n",
    "print (\"Parsing sentences from unlabeled set\")\n",
    "for review in unlabeled_train[\"review\"]:\n",
    "    sentences += review_to_sentences(review, tokenizer)\n"
   ]
  },
  {
   "cell_type": "code",
   "execution_count": 11,
   "metadata": {},
   "outputs": [
    {
     "name": "stdout",
     "output_type": "stream",
     "text": [
      "795538\n"
     ]
    }
   ],
   "source": [
    "print (len(sentences))"
   ]
  },
  {
   "cell_type": "code",
   "execution_count": 12,
   "metadata": {},
   "outputs": [
    {
     "name": "stdout",
     "output_type": "stream",
     "text": [
      "['with', 'all', 'this', 'stuff', 'going', 'down', 'at', 'the', 'moment', 'with', 'mj', 'i', 've', 'started', 'listening', 'to', 'his', 'music', 'watching', 'the', 'odd', 'documentary', 'here', 'and', 'there', 'watched', 'the', 'wiz', 'and', 'watched', 'moonwalker', 'again']\n"
     ]
    }
   ],
   "source": [
    "print (sentences[0])"
   ]
  },
  {
   "cell_type": "code",
   "execution_count": 14,
   "metadata": {},
   "outputs": [
    {
     "name": "stderr",
     "output_type": "stream",
     "text": [
      "2018-03-03 18:53:13,738 : INFO : 'pattern' package not found; tag filters are not available for English\n",
      "2018-03-03 18:53:13,773 : INFO : collecting all words and their counts\n",
      "2018-03-03 18:53:13,774 : INFO : PROGRESS: at sentence #0, processed 0 words, keeping 0 word types\n",
      "2018-03-03 18:53:13,972 : INFO : PROGRESS: at sentence #10000, processed 225803 words, keeping 17776 word types\n"
     ]
    },
    {
     "name": "stdout",
     "output_type": "stream",
     "text": [
      "Training model...\n"
     ]
    },
    {
     "name": "stderr",
     "output_type": "stream",
     "text": [
      "2018-03-03 18:53:14,120 : INFO : PROGRESS: at sentence #20000, processed 451892 words, keeping 24948 word types\n",
      "2018-03-03 18:53:14,349 : INFO : PROGRESS: at sentence #30000, processed 671315 words, keeping 30034 word types\n",
      "2018-03-03 18:53:14,590 : INFO : PROGRESS: at sentence #40000, processed 897815 words, keeping 34348 word types\n",
      "2018-03-03 18:53:14,757 : INFO : PROGRESS: at sentence #50000, processed 1116963 words, keeping 37761 word types\n",
      "2018-03-03 18:53:14,911 : INFO : PROGRESS: at sentence #60000, processed 1338404 words, keeping 40723 word types\n",
      "2018-03-03 18:53:15,086 : INFO : PROGRESS: at sentence #70000, processed 1561580 words, keeping 43333 word types\n",
      "2018-03-03 18:53:15,248 : INFO : PROGRESS: at sentence #80000, processed 1780887 words, keeping 45714 word types\n",
      "2018-03-03 18:53:15,394 : INFO : PROGRESS: at sentence #90000, processed 2004996 words, keeping 48135 word types\n",
      "2018-03-03 18:53:15,527 : INFO : PROGRESS: at sentence #100000, processed 2226966 words, keeping 50207 word types\n",
      "2018-03-03 18:53:15,688 : INFO : PROGRESS: at sentence #110000, processed 2446580 words, keeping 52081 word types\n",
      "2018-03-03 18:53:15,875 : INFO : PROGRESS: at sentence #120000, processed 2668775 words, keeping 54119 word types\n",
      "2018-03-03 18:53:16,028 : INFO : PROGRESS: at sentence #130000, processed 2894303 words, keeping 55847 word types\n",
      "2018-03-03 18:53:16,177 : INFO : PROGRESS: at sentence #140000, processed 3107005 words, keeping 57346 word types\n",
      "2018-03-03 18:53:16,387 : INFO : PROGRESS: at sentence #150000, processed 3332627 words, keeping 59055 word types\n",
      "2018-03-03 18:53:16,536 : INFO : PROGRESS: at sentence #160000, processed 3555315 words, keeping 60617 word types\n",
      "2018-03-03 18:53:16,693 : INFO : PROGRESS: at sentence #170000, processed 3778655 words, keeping 62077 word types\n",
      "2018-03-03 18:53:16,869 : INFO : PROGRESS: at sentence #180000, processed 3999236 words, keeping 63496 word types\n",
      "2018-03-03 18:53:17,055 : INFO : PROGRESS: at sentence #190000, processed 4224449 words, keeping 64794 word types\n",
      "2018-03-03 18:53:17,201 : INFO : PROGRESS: at sentence #200000, processed 4448603 words, keeping 66087 word types\n",
      "2018-03-03 18:53:17,357 : INFO : PROGRESS: at sentence #210000, processed 4669967 words, keeping 67390 word types\n",
      "2018-03-03 18:53:17,473 : INFO : PROGRESS: at sentence #220000, processed 4894968 words, keeping 68697 word types\n",
      "2018-03-03 18:53:17,630 : INFO : PROGRESS: at sentence #230000, processed 5117545 words, keeping 69958 word types\n",
      "2018-03-03 18:53:17,781 : INFO : PROGRESS: at sentence #240000, processed 5345050 words, keeping 71167 word types\n",
      "2018-03-03 18:53:17,901 : INFO : PROGRESS: at sentence #250000, processed 5559165 words, keeping 72351 word types\n",
      "2018-03-03 18:53:18,042 : INFO : PROGRESS: at sentence #260000, processed 5779146 words, keeping 73478 word types\n",
      "2018-03-03 18:53:18,218 : INFO : PROGRESS: at sentence #270000, processed 6000435 words, keeping 74767 word types\n",
      "2018-03-03 18:53:18,375 : INFO : PROGRESS: at sentence #280000, processed 6226314 words, keeping 76369 word types\n",
      "2018-03-03 18:53:18,529 : INFO : PROGRESS: at sentence #290000, processed 6449474 words, keeping 77839 word types\n",
      "2018-03-03 18:53:18,670 : INFO : PROGRESS: at sentence #300000, processed 6674077 words, keeping 79171 word types\n",
      "2018-03-03 18:53:18,826 : INFO : PROGRESS: at sentence #310000, processed 6899391 words, keeping 80480 word types\n",
      "2018-03-03 18:53:18,968 : INFO : PROGRESS: at sentence #320000, processed 7124278 words, keeping 81808 word types\n",
      "2018-03-03 18:53:19,127 : INFO : PROGRESS: at sentence #330000, processed 7346021 words, keeping 83030 word types\n",
      "2018-03-03 18:53:19,309 : INFO : PROGRESS: at sentence #340000, processed 7575533 words, keeping 84280 word types\n",
      "2018-03-03 18:53:19,470 : INFO : PROGRESS: at sentence #350000, processed 7798803 words, keeping 85425 word types\n",
      "2018-03-03 18:53:19,605 : INFO : PROGRESS: at sentence #360000, processed 8019427 words, keeping 86596 word types\n",
      "2018-03-03 18:53:19,748 : INFO : PROGRESS: at sentence #370000, processed 8246619 words, keeping 87708 word types\n",
      "2018-03-03 18:53:19,883 : INFO : PROGRESS: at sentence #380000, processed 8471766 words, keeping 88878 word types\n",
      "2018-03-03 18:53:20,007 : INFO : PROGRESS: at sentence #390000, processed 8701497 words, keeping 89907 word types\n",
      "2018-03-03 18:53:20,147 : INFO : PROGRESS: at sentence #400000, processed 8924446 words, keeping 90916 word types\n",
      "2018-03-03 18:53:20,353 : INFO : PROGRESS: at sentence #410000, processed 9145796 words, keeping 91880 word types\n",
      "2018-03-03 18:53:20,496 : INFO : PROGRESS: at sentence #420000, processed 9366876 words, keeping 92912 word types\n",
      "2018-03-03 18:53:20,646 : INFO : PROGRESS: at sentence #430000, processed 9594413 words, keeping 93932 word types\n",
      "2018-03-03 18:53:20,782 : INFO : PROGRESS: at sentence #440000, processed 9821166 words, keeping 94906 word types\n",
      "2018-03-03 18:53:20,909 : INFO : PROGRESS: at sentence #450000, processed 10044928 words, keeping 96036 word types\n",
      "2018-03-03 18:53:21,043 : INFO : PROGRESS: at sentence #460000, processed 10277688 words, keeping 97088 word types\n",
      "2018-03-03 18:53:21,159 : INFO : PROGRESS: at sentence #470000, processed 10505613 words, keeping 97933 word types\n",
      "2018-03-03 18:53:21,315 : INFO : PROGRESS: at sentence #480000, processed 10725997 words, keeping 98862 word types\n",
      "2018-03-03 18:53:21,480 : INFO : PROGRESS: at sentence #490000, processed 10952741 words, keeping 99871 word types\n",
      "2018-03-03 18:53:21,624 : INFO : PROGRESS: at sentence #500000, processed 11174397 words, keeping 100765 word types\n",
      "2018-03-03 18:53:21,796 : INFO : PROGRESS: at sentence #510000, processed 11399672 words, keeping 101699 word types\n",
      "2018-03-03 18:53:21,947 : INFO : PROGRESS: at sentence #520000, processed 11623020 words, keeping 102598 word types\n",
      "2018-03-03 18:53:22,093 : INFO : PROGRESS: at sentence #530000, processed 11847418 words, keeping 103400 word types\n",
      "2018-03-03 18:53:22,234 : INFO : PROGRESS: at sentence #540000, processed 12072033 words, keeping 104265 word types\n",
      "2018-03-03 18:53:22,358 : INFO : PROGRESS: at sentence #550000, processed 12297571 words, keeping 105133 word types\n",
      "2018-03-03 18:53:22,475 : INFO : PROGRESS: at sentence #560000, processed 12518861 words, keeping 105997 word types\n",
      "2018-03-03 18:53:22,622 : INFO : PROGRESS: at sentence #570000, processed 12747916 words, keeping 106787 word types\n",
      "2018-03-03 18:53:22,826 : INFO : PROGRESS: at sentence #580000, processed 12969412 words, keeping 107665 word types\n",
      "2018-03-03 18:53:22,978 : INFO : PROGRESS: at sentence #590000, processed 13194937 words, keeping 108501 word types\n",
      "2018-03-03 18:53:23,163 : INFO : PROGRESS: at sentence #600000, processed 13417135 words, keeping 109218 word types\n",
      "2018-03-03 18:53:23,324 : INFO : PROGRESS: at sentence #610000, processed 13638158 words, keeping 110092 word types\n",
      "2018-03-03 18:53:23,490 : INFO : PROGRESS: at sentence #620000, processed 13864483 words, keeping 110837 word types\n",
      "2018-03-03 18:53:23,647 : INFO : PROGRESS: at sentence #630000, processed 14088769 words, keeping 111610 word types\n",
      "2018-03-03 18:53:23,783 : INFO : PROGRESS: at sentence #640000, processed 14309552 words, keeping 112416 word types\n",
      "2018-03-03 18:53:23,904 : INFO : PROGRESS: at sentence #650000, processed 14535308 words, keeping 113196 word types\n",
      "2018-03-03 18:53:24,023 : INFO : PROGRESS: at sentence #660000, processed 14758098 words, keeping 113945 word types\n",
      "2018-03-03 18:53:24,273 : INFO : PROGRESS: at sentence #670000, processed 14981482 words, keeping 114643 word types\n",
      "2018-03-03 18:53:24,481 : INFO : PROGRESS: at sentence #680000, processed 15206314 words, keeping 115354 word types\n",
      "2018-03-03 18:53:24,626 : INFO : PROGRESS: at sentence #690000, processed 15428507 words, keeping 116131 word types\n",
      "2018-03-03 18:53:24,961 : INFO : PROGRESS: at sentence #700000, processed 15657213 words, keeping 116943 word types\n",
      "2018-03-03 18:53:25,106 : INFO : PROGRESS: at sentence #710000, processed 15880202 words, keeping 117596 word types\n",
      "2018-03-03 18:53:25,250 : INFO : PROGRESS: at sentence #720000, processed 16105489 words, keeping 118221 word types\n",
      "2018-03-03 18:53:25,407 : INFO : PROGRESS: at sentence #730000, processed 16331870 words, keeping 118954 word types\n"
     ]
    },
    {
     "name": "stderr",
     "output_type": "stream",
     "text": [
      "2018-03-03 18:53:25,533 : INFO : PROGRESS: at sentence #740000, processed 16552903 words, keeping 119668 word types\n",
      "2018-03-03 18:53:25,690 : INFO : PROGRESS: at sentence #750000, processed 16771230 words, keeping 120295 word types\n",
      "2018-03-03 18:53:25,862 : INFO : PROGRESS: at sentence #760000, processed 16990622 words, keeping 120930 word types\n",
      "2018-03-03 18:53:25,999 : INFO : PROGRESS: at sentence #770000, processed 17217759 words, keeping 121703 word types\n",
      "2018-03-03 18:53:26,128 : INFO : PROGRESS: at sentence #780000, processed 17447905 words, keeping 122402 word types\n",
      "2018-03-03 18:53:26,288 : INFO : PROGRESS: at sentence #790000, processed 17674981 words, keeping 123066 word types\n",
      "2018-03-03 18:53:26,396 : INFO : collected 123504 word types from a corpus of 17798082 raw words and 795538 sentences\n",
      "2018-03-03 18:53:26,398 : INFO : Loading a fresh vocabulary\n",
      "2018-03-03 18:53:26,752 : INFO : min_count=40 retains 16490 unique words (13% of original 123504, drops 107014)\n",
      "2018-03-03 18:53:26,754 : INFO : min_count=40 leaves 17238940 word corpus (96% of original 17798082, drops 559142)\n",
      "2018-03-03 18:53:26,848 : INFO : deleting the raw counts dictionary of 123504 items\n",
      "2018-03-03 18:53:26,861 : INFO : sample=0.001 downsamples 48 most-common words\n",
      "2018-03-03 18:53:26,864 : INFO : downsampling leaves estimated 12749658 word corpus (74.0% of prior 17238940)\n",
      "2018-03-03 18:53:26,966 : INFO : estimated required memory for 16490 words and 300 dimensions: 47821000 bytes\n",
      "2018-03-03 18:53:26,967 : INFO : resetting layer weights\n",
      "2018-03-03 18:53:27,421 : INFO : training model with 4 workers on 16490 vocabulary and 300 features, using sg=0 hs=0 sample=0.001 negative=5 window=10\n",
      "2018-03-03 18:53:28,458 : INFO : EPOCH 1 - PROGRESS: at 2.85% examples, 358343 words/s, in_qsize 7, out_qsize 0\n",
      "2018-03-03 18:53:29,464 : INFO : EPOCH 1 - PROGRESS: at 6.45% examples, 405912 words/s, in_qsize 8, out_qsize 0\n",
      "2018-03-03 18:53:30,482 : INFO : EPOCH 1 - PROGRESS: at 9.40% examples, 392260 words/s, in_qsize 6, out_qsize 1\n",
      "2018-03-03 18:53:31,500 : INFO : EPOCH 1 - PROGRESS: at 12.80% examples, 399744 words/s, in_qsize 7, out_qsize 0\n",
      "2018-03-03 18:53:32,501 : INFO : EPOCH 1 - PROGRESS: at 16.44% examples, 411150 words/s, in_qsize 7, out_qsize 0\n",
      "2018-03-03 18:53:33,524 : INFO : EPOCH 1 - PROGRESS: at 20.05% examples, 417199 words/s, in_qsize 8, out_qsize 0\n",
      "2018-03-03 18:53:34,552 : INFO : EPOCH 1 - PROGRESS: at 23.60% examples, 420308 words/s, in_qsize 7, out_qsize 0\n",
      "2018-03-03 18:53:35,556 : INFO : EPOCH 1 - PROGRESS: at 27.14% examples, 423740 words/s, in_qsize 7, out_qsize 0\n",
      "2018-03-03 18:53:36,618 : INFO : EPOCH 1 - PROGRESS: at 29.04% examples, 401190 words/s, in_qsize 7, out_qsize 0\n",
      "2018-03-03 18:53:37,631 : INFO : EPOCH 1 - PROGRESS: at 31.96% examples, 397082 words/s, in_qsize 8, out_qsize 0\n",
      "2018-03-03 18:53:38,642 : INFO : EPOCH 1 - PROGRESS: at 34.88% examples, 394437 words/s, in_qsize 6, out_qsize 1\n",
      "2018-03-03 18:53:39,647 : INFO : EPOCH 1 - PROGRESS: at 38.18% examples, 396477 words/s, in_qsize 7, out_qsize 0\n",
      "2018-03-03 18:53:40,652 : INFO : EPOCH 1 - PROGRESS: at 41.76% examples, 400999 words/s, in_qsize 7, out_qsize 0\n",
      "2018-03-03 18:53:41,658 : INFO : EPOCH 1 - PROGRESS: at 45.29% examples, 404330 words/s, in_qsize 8, out_qsize 0\n",
      "2018-03-03 18:53:42,686 : INFO : EPOCH 1 - PROGRESS: at 49.10% examples, 409458 words/s, in_qsize 7, out_qsize 0\n",
      "2018-03-03 18:53:43,697 : INFO : EPOCH 1 - PROGRESS: at 52.67% examples, 411707 words/s, in_qsize 7, out_qsize 0\n",
      "2018-03-03 18:53:44,701 : INFO : EPOCH 1 - PROGRESS: at 55.49% examples, 408899 words/s, in_qsize 8, out_qsize 1\n",
      "2018-03-03 18:53:45,714 : INFO : EPOCH 1 - PROGRESS: at 59.00% examples, 411259 words/s, in_qsize 8, out_qsize 0\n",
      "2018-03-03 18:53:46,718 : INFO : EPOCH 1 - PROGRESS: at 62.30% examples, 411696 words/s, in_qsize 8, out_qsize 0\n",
      "2018-03-03 18:53:47,727 : INFO : EPOCH 1 - PROGRESS: at 65.06% examples, 408503 words/s, in_qsize 8, out_qsize 0\n",
      "2018-03-03 18:53:48,730 : INFO : EPOCH 1 - PROGRESS: at 68.21% examples, 408070 words/s, in_qsize 7, out_qsize 0\n",
      "2018-03-03 18:53:49,739 : INFO : EPOCH 1 - PROGRESS: at 72.09% examples, 412053 words/s, in_qsize 8, out_qsize 0\n",
      "2018-03-03 18:53:50,757 : INFO : EPOCH 1 - PROGRESS: at 75.94% examples, 414925 words/s, in_qsize 7, out_qsize 0\n",
      "2018-03-03 18:53:51,766 : INFO : EPOCH 1 - PROGRESS: at 79.57% examples, 416833 words/s, in_qsize 7, out_qsize 0\n",
      "2018-03-03 18:53:52,774 : INFO : EPOCH 1 - PROGRESS: at 83.23% examples, 418592 words/s, in_qsize 8, out_qsize 0\n",
      "2018-03-03 18:53:53,774 : INFO : EPOCH 1 - PROGRESS: at 87.08% examples, 421423 words/s, in_qsize 8, out_qsize 0\n",
      "2018-03-03 18:53:54,796 : INFO : EPOCH 1 - PROGRESS: at 90.77% examples, 422930 words/s, in_qsize 6, out_qsize 1\n",
      "2018-03-03 18:53:55,809 : INFO : EPOCH 1 - PROGRESS: at 94.71% examples, 425460 words/s, in_qsize 7, out_qsize 0\n",
      "2018-03-03 18:53:56,824 : INFO : EPOCH 1 - PROGRESS: at 98.23% examples, 426126 words/s, in_qsize 8, out_qsize 0\n",
      "2018-03-03 18:53:57,249 : INFO : worker thread finished; awaiting finish of 3 more threads\n",
      "2018-03-03 18:53:57,257 : INFO : worker thread finished; awaiting finish of 2 more threads\n",
      "2018-03-03 18:53:57,268 : INFO : worker thread finished; awaiting finish of 1 more threads\n",
      "2018-03-03 18:53:57,283 : INFO : worker thread finished; awaiting finish of 0 more threads\n",
      "2018-03-03 18:53:57,285 : INFO : EPOCH - 1 : training on 17798082 raw words (12749236 effective words) took 29.8s, 427203 effective words/s\n",
      "2018-03-03 18:53:58,324 : INFO : EPOCH 2 - PROGRESS: at 3.93% examples, 488694 words/s, in_qsize 7, out_qsize 0\n",
      "2018-03-03 18:53:59,332 : INFO : EPOCH 2 - PROGRESS: at 7.71% examples, 481699 words/s, in_qsize 7, out_qsize 0\n",
      "2018-03-03 18:54:00,334 : INFO : EPOCH 2 - PROGRESS: at 11.32% examples, 473645 words/s, in_qsize 8, out_qsize 0\n",
      "2018-03-03 18:54:01,346 : INFO : EPOCH 2 - PROGRESS: at 15.12% examples, 473641 words/s, in_qsize 6, out_qsize 1\n",
      "2018-03-03 18:54:02,363 : INFO : EPOCH 2 - PROGRESS: at 18.81% examples, 470437 words/s, in_qsize 8, out_qsize 0\n",
      "2018-03-03 18:54:03,382 : INFO : EPOCH 2 - PROGRESS: at 21.92% examples, 456343 words/s, in_qsize 8, out_qsize 0\n",
      "2018-03-03 18:54:04,394 : INFO : EPOCH 2 - PROGRESS: at 25.22% examples, 450708 words/s, in_qsize 8, out_qsize 0\n",
      "2018-03-03 18:54:05,400 : INFO : EPOCH 2 - PROGRESS: at 28.31% examples, 443162 words/s, in_qsize 8, out_qsize 0\n",
      "2018-03-03 18:54:06,410 : INFO : EPOCH 2 - PROGRESS: at 31.56% examples, 438733 words/s, in_qsize 7, out_qsize 0\n",
      "2018-03-03 18:54:07,415 : INFO : EPOCH 2 - PROGRESS: at 34.60% examples, 433245 words/s, in_qsize 7, out_qsize 0\n",
      "2018-03-03 18:54:08,433 : INFO : EPOCH 2 - PROGRESS: at 38.06% examples, 433485 words/s, in_qsize 7, out_qsize 0\n",
      "2018-03-03 18:54:09,438 : INFO : EPOCH 2 - PROGRESS: at 41.49% examples, 433571 words/s, in_qsize 7, out_qsize 0\n",
      "2018-03-03 18:54:10,585 : INFO : EPOCH 2 - PROGRESS: at 43.98% examples, 420418 words/s, in_qsize 6, out_qsize 1\n",
      "2018-03-03 18:54:11,601 : INFO : EPOCH 2 - PROGRESS: at 46.50% examples, 413031 words/s, in_qsize 8, out_qsize 0\n",
      "2018-03-03 18:54:12,601 : INFO : EPOCH 2 - PROGRESS: at 48.49% examples, 402836 words/s, in_qsize 7, out_qsize 0\n",
      "2018-03-03 18:54:13,610 : INFO : EPOCH 2 - PROGRESS: at 50.51% examples, 393760 words/s, in_qsize 8, out_qsize 0\n",
      "2018-03-03 18:54:14,657 : INFO : EPOCH 2 - PROGRESS: at 52.43% examples, 383973 words/s, in_qsize 5, out_qsize 2\n",
      "2018-03-03 18:54:15,666 : INFO : EPOCH 2 - PROGRESS: at 54.76% examples, 379240 words/s, in_qsize 8, out_qsize 1\n",
      "2018-03-03 18:54:16,680 : INFO : EPOCH 2 - PROGRESS: at 57.15% examples, 375258 words/s, in_qsize 7, out_qsize 0\n",
      "2018-03-03 18:54:17,700 : INFO : EPOCH 2 - PROGRESS: at 59.55% examples, 371920 words/s, in_qsize 8, out_qsize 0\n",
      "2018-03-03 18:54:18,710 : INFO : EPOCH 2 - PROGRESS: at 62.66% examples, 372710 words/s, in_qsize 8, out_qsize 0\n",
      "2018-03-03 18:54:19,714 : INFO : EPOCH 2 - PROGRESS: at 65.51% examples, 372275 words/s, in_qsize 7, out_qsize 1\n",
      "2018-03-03 18:54:20,748 : INFO : EPOCH 2 - PROGRESS: at 69.09% examples, 375387 words/s, in_qsize 7, out_qsize 0\n",
      "2018-03-03 18:54:21,753 : INFO : EPOCH 2 - PROGRESS: at 72.04% examples, 375471 words/s, in_qsize 8, out_qsize 0\n",
      "2018-03-03 18:54:22,761 : INFO : EPOCH 2 - PROGRESS: at 75.13% examples, 376067 words/s, in_qsize 7, out_qsize 0\n"
     ]
    },
    {
     "name": "stderr",
     "output_type": "stream",
     "text": [
      "2018-03-03 18:54:23,793 : INFO : EPOCH 2 - PROGRESS: at 77.94% examples, 374921 words/s, in_qsize 7, out_qsize 0\n",
      "2018-03-03 18:54:24,809 : INFO : EPOCH 2 - PROGRESS: at 80.08% examples, 370950 words/s, in_qsize 6, out_qsize 1\n",
      "2018-03-03 18:54:25,814 : INFO : EPOCH 2 - PROGRESS: at 82.67% examples, 369403 words/s, in_qsize 7, out_qsize 0\n",
      "2018-03-03 18:54:26,820 : INFO : EPOCH 2 - PROGRESS: at 85.34% examples, 368459 words/s, in_qsize 8, out_qsize 0\n",
      "2018-03-03 18:54:27,837 : INFO : EPOCH 2 - PROGRESS: at 88.52% examples, 369526 words/s, in_qsize 7, out_qsize 0\n",
      "2018-03-03 18:54:28,914 : INFO : EPOCH 2 - PROGRESS: at 91.26% examples, 368028 words/s, in_qsize 7, out_qsize 0\n",
      "2018-03-03 18:54:29,917 : INFO : EPOCH 2 - PROGRESS: at 94.43% examples, 368998 words/s, in_qsize 8, out_qsize 0\n",
      "2018-03-03 18:54:30,924 : INFO : EPOCH 2 - PROGRESS: at 97.67% examples, 370284 words/s, in_qsize 8, out_qsize 0\n",
      "2018-03-03 18:54:31,621 : INFO : worker thread finished; awaiting finish of 3 more threads\n",
      "2018-03-03 18:54:31,632 : INFO : worker thread finished; awaiting finish of 2 more threads\n",
      "2018-03-03 18:54:31,648 : INFO : worker thread finished; awaiting finish of 1 more threads\n",
      "2018-03-03 18:54:31,655 : INFO : worker thread finished; awaiting finish of 0 more threads\n",
      "2018-03-03 18:54:31,656 : INFO : EPOCH - 2 : training on 17798082 raw words (12751104 effective words) took 34.4s, 371129 effective words/s\n",
      "2018-03-03 18:54:32,686 : INFO : EPOCH 3 - PROGRESS: at 3.48% examples, 436171 words/s, in_qsize 6, out_qsize 1\n",
      "2018-03-03 18:54:33,713 : INFO : EPOCH 3 - PROGRESS: at 6.74% examples, 419676 words/s, in_qsize 7, out_qsize 0\n",
      "2018-03-03 18:54:34,716 : INFO : EPOCH 3 - PROGRESS: at 9.51% examples, 396721 words/s, in_qsize 7, out_qsize 0\n",
      "2018-03-03 18:54:35,717 : INFO : EPOCH 3 - PROGRESS: at 12.18% examples, 381658 words/s, in_qsize 6, out_qsize 1\n",
      "2018-03-03 18:54:36,720 : INFO : EPOCH 3 - PROGRESS: at 15.34% examples, 385104 words/s, in_qsize 8, out_qsize 0\n",
      "2018-03-03 18:54:37,722 : INFO : EPOCH 3 - PROGRESS: at 18.36% examples, 383945 words/s, in_qsize 7, out_qsize 0\n",
      "2018-03-03 18:54:38,791 : INFO : EPOCH 3 - PROGRESS: at 21.46% examples, 381460 words/s, in_qsize 8, out_qsize 0\n",
      "2018-03-03 18:54:39,796 : INFO : EPOCH 3 - PROGRESS: at 24.33% examples, 379191 words/s, in_qsize 8, out_qsize 0\n",
      "2018-03-03 18:54:40,808 : INFO : EPOCH 3 - PROGRESS: at 27.09% examples, 375467 words/s, in_qsize 7, out_qsize 1\n",
      "2018-03-03 18:54:41,820 : INFO : EPOCH 3 - PROGRESS: at 29.93% examples, 373947 words/s, in_qsize 7, out_qsize 0\n",
      "2018-03-03 18:54:42,874 : INFO : EPOCH 3 - PROGRESS: at 32.75% examples, 370002 words/s, in_qsize 6, out_qsize 1\n",
      "2018-03-03 18:54:43,876 : INFO : EPOCH 3 - PROGRESS: at 35.27% examples, 365954 words/s, in_qsize 8, out_qsize 0\n",
      "2018-03-03 18:54:44,880 : INFO : EPOCH 3 - PROGRESS: at 38.29% examples, 367407 words/s, in_qsize 7, out_qsize 0\n",
      "2018-03-03 18:54:45,895 : INFO : EPOCH 3 - PROGRESS: at 41.20% examples, 367349 words/s, in_qsize 7, out_qsize 0\n",
      "2018-03-03 18:54:46,926 : INFO : EPOCH 3 - PROGRESS: at 44.50% examples, 370216 words/s, in_qsize 7, out_qsize 0\n",
      "2018-03-03 18:54:47,935 : INFO : EPOCH 3 - PROGRESS: at 47.73% examples, 372734 words/s, in_qsize 6, out_qsize 1\n",
      "2018-03-03 18:54:48,945 : INFO : EPOCH 3 - PROGRESS: at 51.08% examples, 375807 words/s, in_qsize 7, out_qsize 0\n",
      "2018-03-03 18:54:49,945 : INFO : EPOCH 3 - PROGRESS: at 54.87% examples, 381814 words/s, in_qsize 7, out_qsize 0\n",
      "2018-03-03 18:54:50,955 : INFO : EPOCH 3 - PROGRESS: at 58.46% examples, 385908 words/s, in_qsize 8, out_qsize 0\n",
      "2018-03-03 18:54:51,961 : INFO : EPOCH 3 - PROGRESS: at 62.13% examples, 390018 words/s, in_qsize 8, out_qsize 0\n",
      "2018-03-03 18:54:52,971 : INFO : EPOCH 3 - PROGRESS: at 65.40% examples, 391005 words/s, in_qsize 8, out_qsize 0\n",
      "2018-03-03 18:54:54,057 : INFO : EPOCH 3 - PROGRESS: at 68.55% examples, 389928 words/s, in_qsize 7, out_qsize 0\n",
      "2018-03-03 18:54:55,071 : INFO : EPOCH 3 - PROGRESS: at 71.33% examples, 388326 words/s, in_qsize 6, out_qsize 1\n",
      "2018-03-03 18:54:56,085 : INFO : EPOCH 3 - PROGRESS: at 73.90% examples, 385676 words/s, in_qsize 7, out_qsize 0\n",
      "2018-03-03 18:54:57,094 : INFO : EPOCH 3 - PROGRESS: at 76.98% examples, 385825 words/s, in_qsize 7, out_qsize 0\n",
      "2018-03-03 18:54:58,105 : INFO : EPOCH 3 - PROGRESS: at 80.20% examples, 386491 words/s, in_qsize 7, out_qsize 0\n",
      "2018-03-03 18:54:59,107 : INFO : EPOCH 3 - PROGRESS: at 82.67% examples, 383835 words/s, in_qsize 7, out_qsize 0\n",
      "2018-03-03 18:55:00,109 : INFO : EPOCH 3 - PROGRESS: at 85.96% examples, 385161 words/s, in_qsize 7, out_qsize 0\n",
      "2018-03-03 18:55:01,124 : INFO : EPOCH 3 - PROGRESS: at 87.85% examples, 380142 words/s, in_qsize 7, out_qsize 0\n",
      "2018-03-03 18:55:02,127 : INFO : EPOCH 3 - PROGRESS: at 90.54% examples, 378889 words/s, in_qsize 7, out_qsize 0\n",
      "2018-03-03 18:55:03,129 : INFO : EPOCH 3 - PROGRESS: at 93.01% examples, 376833 words/s, in_qsize 7, out_qsize 0\n",
      "2018-03-03 18:55:04,143 : INFO : EPOCH 3 - PROGRESS: at 95.76% examples, 375632 words/s, in_qsize 6, out_qsize 1\n",
      "2018-03-03 18:55:05,146 : INFO : EPOCH 3 - PROGRESS: at 98.51% examples, 375062 words/s, in_qsize 7, out_qsize 0\n",
      "2018-03-03 18:55:05,727 : INFO : worker thread finished; awaiting finish of 3 more threads\n",
      "2018-03-03 18:55:05,738 : INFO : worker thread finished; awaiting finish of 2 more threads\n",
      "2018-03-03 18:55:05,756 : INFO : worker thread finished; awaiting finish of 1 more threads\n",
      "2018-03-03 18:55:05,770 : INFO : worker thread finished; awaiting finish of 0 more threads\n",
      "2018-03-03 18:55:05,771 : INFO : EPOCH - 3 : training on 17798082 raw words (12748065 effective words) took 34.1s, 373830 effective words/s\n",
      "2018-03-03 18:55:06,857 : INFO : EPOCH 4 - PROGRESS: at 2.80% examples, 334622 words/s, in_qsize 7, out_qsize 2\n",
      "2018-03-03 18:55:07,894 : INFO : EPOCH 4 - PROGRESS: at 5.14% examples, 312311 words/s, in_qsize 7, out_qsize 1\n",
      "2018-03-03 18:55:08,936 : INFO : EPOCH 4 - PROGRESS: at 7.24% examples, 292842 words/s, in_qsize 7, out_qsize 0\n",
      "2018-03-03 18:55:09,939 : INFO : EPOCH 4 - PROGRESS: at 9.98% examples, 304931 words/s, in_qsize 8, out_qsize 0\n",
      "2018-03-03 18:55:10,967 : INFO : EPOCH 4 - PROGRESS: at 13.31% examples, 326074 words/s, in_qsize 8, out_qsize 0\n",
      "2018-03-03 18:55:11,976 : INFO : EPOCH 4 - PROGRESS: at 16.29% examples, 334139 words/s, in_qsize 7, out_qsize 0\n",
      "2018-03-03 18:55:12,981 : INFO : EPOCH 4 - PROGRESS: at 19.38% examples, 341049 words/s, in_qsize 7, out_qsize 0\n",
      "2018-03-03 18:55:13,989 : INFO : EPOCH 4 - PROGRESS: at 22.59% examples, 348884 words/s, in_qsize 7, out_qsize 0\n",
      "2018-03-03 18:55:15,020 : INFO : EPOCH 4 - PROGRESS: at 25.69% examples, 352500 words/s, in_qsize 7, out_qsize 0\n",
      "2018-03-03 18:55:16,050 : INFO : EPOCH 4 - PROGRESS: at 28.99% examples, 358129 words/s, in_qsize 8, out_qsize 1\n",
      "2018-03-03 18:55:17,090 : INFO : EPOCH 4 - PROGRESS: at 32.18% examples, 360528 words/s, in_qsize 8, out_qsize 0\n",
      "2018-03-03 18:55:18,100 : INFO : EPOCH 4 - PROGRESS: at 34.99% examples, 359955 words/s, in_qsize 7, out_qsize 3\n",
      "2018-03-03 18:55:19,105 : INFO : EPOCH 4 - PROGRESS: at 37.46% examples, 356433 words/s, in_qsize 7, out_qsize 1\n",
      "2018-03-03 18:55:20,108 : INFO : EPOCH 4 - PROGRESS: at 40.30% examples, 356919 words/s, in_qsize 8, out_qsize 0\n",
      "2018-03-03 18:55:21,130 : INFO : EPOCH 4 - PROGRESS: at 42.74% examples, 353670 words/s, in_qsize 8, out_qsize 0\n",
      "2018-03-03 18:55:22,140 : INFO : EPOCH 4 - PROGRESS: at 44.56% examples, 345839 words/s, in_qsize 7, out_qsize 0\n",
      "2018-03-03 18:55:23,156 : INFO : EPOCH 4 - PROGRESS: at 47.45% examples, 346991 words/s, in_qsize 7, out_qsize 0\n",
      "2018-03-03 18:55:24,161 : INFO : EPOCH 4 - PROGRESS: at 50.11% examples, 346715 words/s, in_qsize 7, out_qsize 0\n",
      "2018-03-03 18:55:25,224 : INFO : EPOCH 4 - PROGRESS: at 53.16% examples, 347612 words/s, in_qsize 7, out_qsize 0\n",
      "2018-03-03 18:55:26,242 : INFO : EPOCH 4 - PROGRESS: at 55.72% examples, 346392 words/s, in_qsize 7, out_qsize 1\n",
      "2018-03-03 18:55:27,253 : INFO : EPOCH 4 - PROGRESS: at 58.46% examples, 346713 words/s, in_qsize 7, out_qsize 0\n",
      "2018-03-03 18:55:28,278 : INFO : EPOCH 4 - PROGRESS: at 61.81% examples, 349992 words/s, in_qsize 7, out_qsize 0\n",
      "2018-03-03 18:55:29,280 : INFO : EPOCH 4 - PROGRESS: at 64.83% examples, 351506 words/s, in_qsize 6, out_qsize 1\n"
     ]
    },
    {
     "name": "stderr",
     "output_type": "stream",
     "text": [
      "2018-03-03 18:55:30,306 : INFO : EPOCH 4 - PROGRESS: at 67.69% examples, 351674 words/s, in_qsize 8, out_qsize 0\n",
      "2018-03-03 18:55:31,322 : INFO : EPOCH 4 - PROGRESS: at 71.49% examples, 356754 words/s, in_qsize 7, out_qsize 0\n",
      "2018-03-03 18:55:32,338 : INFO : EPOCH 4 - PROGRESS: at 74.46% examples, 357379 words/s, in_qsize 8, out_qsize 1\n",
      "2018-03-03 18:55:33,348 : INFO : EPOCH 4 - PROGRESS: at 78.16% examples, 361397 words/s, in_qsize 7, out_qsize 0\n",
      "2018-03-03 18:55:34,357 : INFO : EPOCH 4 - PROGRESS: at 82.04% examples, 365907 words/s, in_qsize 7, out_qsize 0\n",
      "2018-03-03 18:55:35,358 : INFO : EPOCH 4 - PROGRESS: at 85.96% examples, 370464 words/s, in_qsize 7, out_qsize 0\n",
      "2018-03-03 18:55:36,372 : INFO : EPOCH 4 - PROGRESS: at 89.63% examples, 373609 words/s, in_qsize 7, out_qsize 1\n",
      "2018-03-03 18:55:37,382 : INFO : EPOCH 4 - PROGRESS: at 93.51% examples, 377269 words/s, in_qsize 6, out_qsize 1\n",
      "2018-03-03 18:55:38,387 : INFO : EPOCH 4 - PROGRESS: at 97.23% examples, 380124 words/s, in_qsize 6, out_qsize 1\n",
      "2018-03-03 18:55:39,214 : INFO : worker thread finished; awaiting finish of 3 more threads\n",
      "2018-03-03 18:55:39,216 : INFO : worker thread finished; awaiting finish of 2 more threads\n",
      "2018-03-03 18:55:39,240 : INFO : worker thread finished; awaiting finish of 1 more threads\n",
      "2018-03-03 18:55:39,248 : INFO : worker thread finished; awaiting finish of 0 more threads\n",
      "2018-03-03 18:55:39,249 : INFO : EPOCH - 4 : training on 17798082 raw words (12749053 effective words) took 33.5s, 381002 effective words/s\n",
      "2018-03-03 18:55:40,274 : INFO : EPOCH 5 - PROGRESS: at 3.42% examples, 429658 words/s, in_qsize 5, out_qsize 2\n",
      "2018-03-03 18:55:41,296 : INFO : EPOCH 5 - PROGRESS: at 7.24% examples, 452453 words/s, in_qsize 7, out_qsize 0\n",
      "2018-03-03 18:55:42,319 : INFO : EPOCH 5 - PROGRESS: at 10.70% examples, 443835 words/s, in_qsize 7, out_qsize 0\n",
      "2018-03-03 18:55:43,347 : INFO : EPOCH 5 - PROGRESS: at 13.77% examples, 426888 words/s, in_qsize 7, out_qsize 0\n",
      "2018-03-03 18:55:44,378 : INFO : EPOCH 5 - PROGRESS: at 15.07% examples, 373051 words/s, in_qsize 7, out_qsize 0\n",
      "2018-03-03 18:55:45,406 : INFO : EPOCH 5 - PROGRESS: at 16.89% examples, 348944 words/s, in_qsize 7, out_qsize 1\n",
      "2018-03-03 18:55:46,441 : INFO : EPOCH 5 - PROGRESS: at 18.92% examples, 333643 words/s, in_qsize 5, out_qsize 2\n",
      "2018-03-03 18:55:47,442 : INFO : EPOCH 5 - PROGRESS: at 20.84% examples, 322558 words/s, in_qsize 7, out_qsize 0\n",
      "2018-03-03 18:55:48,482 : INFO : EPOCH 5 - PROGRESS: at 23.15% examples, 317979 words/s, in_qsize 7, out_qsize 1\n",
      "2018-03-03 18:55:49,587 : INFO : EPOCH 5 - PROGRESS: at 24.56% examples, 301262 words/s, in_qsize 7, out_qsize 0\n",
      "2018-03-03 18:55:50,682 : INFO : EPOCH 5 - PROGRESS: at 25.97% examples, 288033 words/s, in_qsize 8, out_qsize 0\n",
      "2018-03-03 18:55:51,686 : INFO : EPOCH 5 - PROGRESS: at 27.03% examples, 275664 words/s, in_qsize 7, out_qsize 0\n",
      "2018-03-03 18:55:52,720 : INFO : EPOCH 5 - PROGRESS: at 28.26% examples, 266159 words/s, in_qsize 8, out_qsize 1\n",
      "2018-03-03 18:55:53,751 : INFO : EPOCH 5 - PROGRESS: at 30.50% examples, 266948 words/s, in_qsize 7, out_qsize 0\n",
      "2018-03-03 18:55:54,763 : INFO : EPOCH 5 - PROGRESS: at 32.46% examples, 265203 words/s, in_qsize 8, out_qsize 0\n",
      "2018-03-03 18:55:55,804 : INFO : EPOCH 5 - PROGRESS: at 34.33% examples, 262760 words/s, in_qsize 7, out_qsize 0\n",
      "2018-03-03 18:55:56,805 : INFO : EPOCH 5 - PROGRESS: at 36.51% examples, 263649 words/s, in_qsize 8, out_qsize 0\n",
      "2018-03-03 18:55:57,833 : INFO : EPOCH 5 - PROGRESS: at 38.01% examples, 259470 words/s, in_qsize 8, out_qsize 0\n",
      "2018-03-03 18:55:59,007 : INFO : EPOCH 5 - PROGRESS: at 39.36% examples, 252742 words/s, in_qsize 7, out_qsize 0\n",
      "2018-03-03 18:56:00,029 : INFO : EPOCH 5 - PROGRESS: at 40.63% examples, 248213 words/s, in_qsize 8, out_qsize 0\n",
      "2018-03-03 18:56:01,099 : INFO : EPOCH 5 - PROGRESS: at 42.52% examples, 247176 words/s, in_qsize 7, out_qsize 1\n",
      "2018-03-03 18:56:02,133 : INFO : EPOCH 5 - PROGRESS: at 44.62% examples, 247581 words/s, in_qsize 7, out_qsize 0\n",
      "2018-03-03 18:56:03,217 : INFO : EPOCH 5 - PROGRESS: at 46.61% examples, 247116 words/s, in_qsize 6, out_qsize 1\n",
      "2018-03-03 18:56:04,257 : INFO : EPOCH 5 - PROGRESS: at 49.27% examples, 250580 words/s, in_qsize 7, out_qsize 0\n",
      "2018-03-03 18:56:05,268 : INFO : EPOCH 5 - PROGRESS: at 51.76% examples, 252943 words/s, in_qsize 7, out_qsize 0\n",
      "2018-03-03 18:56:06,284 : INFO : EPOCH 5 - PROGRESS: at 54.76% examples, 257704 words/s, in_qsize 6, out_qsize 1\n",
      "2018-03-03 18:56:07,298 : INFO : EPOCH 5 - PROGRESS: at 58.07% examples, 263651 words/s, in_qsize 7, out_qsize 0\n",
      "2018-03-03 18:56:08,304 : INFO : EPOCH 5 - PROGRESS: at 61.42% examples, 269292 words/s, in_qsize 7, out_qsize 0\n",
      "2018-03-03 18:56:09,307 : INFO : EPOCH 5 - PROGRESS: at 64.95% examples, 275292 words/s, in_qsize 7, out_qsize 0\n",
      "2018-03-03 18:56:10,311 : INFO : EPOCH 5 - PROGRESS: at 68.78% examples, 282047 words/s, in_qsize 8, out_qsize 0\n",
      "2018-03-03 18:56:11,326 : INFO : EPOCH 5 - PROGRESS: at 71.93% examples, 285850 words/s, in_qsize 7, out_qsize 0\n",
      "2018-03-03 18:56:12,344 : INFO : EPOCH 5 - PROGRESS: at 75.30% examples, 290027 words/s, in_qsize 6, out_qsize 1\n",
      "2018-03-03 18:56:13,369 : INFO : EPOCH 5 - PROGRESS: at 78.73% examples, 294107 words/s, in_qsize 7, out_qsize 0\n",
      "2018-03-03 18:56:14,401 : INFO : EPOCH 5 - PROGRESS: at 82.33% examples, 298477 words/s, in_qsize 7, out_qsize 1\n",
      "2018-03-03 18:56:15,412 : INFO : EPOCH 5 - PROGRESS: at 85.51% examples, 301420 words/s, in_qsize 8, out_qsize 0\n",
      "2018-03-03 18:56:16,425 : INFO : EPOCH 5 - PROGRESS: at 88.98% examples, 305124 words/s, in_qsize 7, out_qsize 0\n",
      "2018-03-03 18:56:17,433 : INFO : EPOCH 5 - PROGRESS: at 92.50% examples, 308868 words/s, in_qsize 7, out_qsize 0\n",
      "2018-03-03 18:56:18,464 : INFO : EPOCH 5 - PROGRESS: at 96.25% examples, 312782 words/s, in_qsize 7, out_qsize 0\n",
      "2018-03-03 18:56:19,471 : INFO : EPOCH 5 - PROGRESS: at 99.77% examples, 316331 words/s, in_qsize 4, out_qsize 0\n",
      "2018-03-03 18:56:19,474 : INFO : worker thread finished; awaiting finish of 3 more threads\n",
      "2018-03-03 18:56:19,487 : INFO : worker thread finished; awaiting finish of 2 more threads\n",
      "2018-03-03 18:56:19,501 : INFO : worker thread finished; awaiting finish of 1 more threads\n",
      "2018-03-03 18:56:19,522 : INFO : worker thread finished; awaiting finish of 0 more threads\n",
      "2018-03-03 18:56:19,523 : INFO : EPOCH - 5 : training on 17798082 raw words (12748344 effective words) took 40.3s, 316623 effective words/s\n",
      "2018-03-03 18:56:19,524 : INFO : training on a 88990410 raw words (63745802 effective words) took 172.1s, 370412 effective words/s\n",
      "2018-03-03 18:56:19,527 : INFO : precomputing L2-norms of word weight vectors\n",
      "2018-03-03 18:56:19,754 : INFO : saving Word2Vec object under 300features_40minwords_10context, separately None\n",
      "2018-03-03 18:56:19,757 : INFO : not storing attribute vectors_norm\n",
      "2018-03-03 18:56:19,765 : INFO : not storing attribute cum_table\n",
      "2018-03-03 18:56:20,719 : INFO : saved 300features_40minwords_10context\n"
     ]
    }
   ],
   "source": [
    "# Import the built-in logging module and configure it so that Word2Vec \n",
    "# creates nice output messages\n",
    "import logging\n",
    "logging.basicConfig(format='%(asctime)s : %(levelname)s : %(message)s',\\\n",
    "    level=logging.INFO)\n",
    "\n",
    "# Set values for various parameters\n",
    "num_features = 300    # Word vector dimensionality                      \n",
    "min_word_count = 40   # Minimum word count                        \n",
    "num_workers = 4       # Number of threads to run in parallel\n",
    "context = 10          # Context window size                                                                                    \n",
    "downsampling = 1e-3   # Downsample setting for frequent words\n",
    "\n",
    "# Initialize and train the model (this will take some time)\n",
    "from gensim.models import word2vec\n",
    "print (\"Training model...\")\n",
    "model = word2vec.Word2Vec(sentences, workers=num_workers, \\\n",
    "            size=num_features, min_count = min_word_count, \\\n",
    "            window = context, sample = downsampling)\n",
    "\n",
    "# If you don't plan to train the model any further, calling \n",
    "# init_sims will make the model much more memory-efficient.\n",
    "model.init_sims(replace=True)\n",
    "\n",
    "# It can be helpful to create a meaningful model name and \n",
    "# save the model for later use. You can load it later using Word2Vec.load()\n",
    "model_name = \"300features_40minwords_10context\"\n",
    "model.save(model_name)"
   ]
  },
  {
   "cell_type": "code",
   "execution_count": 15,
   "metadata": {},
   "outputs": [
    {
     "name": "stderr",
     "output_type": "stream",
     "text": [
      "2018-03-03 18:58:11,641 : INFO : loading Word2Vec object from 300features_40minwords_10context\n",
      "2018-03-03 18:58:12,446 : INFO : loading wv recursively from 300features_40minwords_10context.wv.* with mmap=None\n",
      "2018-03-03 18:58:12,448 : INFO : setting ignored attribute vectors_norm to None\n",
      "2018-03-03 18:58:12,449 : INFO : loading vocabulary recursively from 300features_40minwords_10context.vocabulary.* with mmap=None\n",
      "2018-03-03 18:58:12,450 : INFO : loading trainables recursively from 300features_40minwords_10context.trainables.* with mmap=None\n",
      "2018-03-03 18:58:12,452 : INFO : setting ignored attribute cum_table to None\n",
      "2018-03-03 18:58:12,454 : INFO : loaded 300features_40minwords_10context\n"
     ]
    }
   ],
   "source": [
    "from gensim.models import Word2Vec\n",
    "model = Word2Vec.load(\"300features_40minwords_10context\")"
   ]
  },
  {
   "cell_type": "code",
   "execution_count": 20,
   "metadata": {},
   "outputs": [
    {
     "name": "stderr",
     "output_type": "stream",
     "text": [
      "/anaconda3/lib/python3.6/site-packages/ipykernel_launcher.py:1: DeprecationWarning: Call to deprecated `syn0` (Attribute will be removed in 4.0.0, use self.wv.vectors instead).\n",
      "  \"\"\"Entry point for launching an IPython kernel.\n"
     ]
    },
    {
     "data": {
      "text/plain": [
       "numpy.ndarray"
      ]
     },
     "execution_count": 20,
     "metadata": {},
     "output_type": "execute_result"
    }
   ],
   "source": [
    "type(model.wv.syn0)"
   ]
  },
  {
   "cell_type": "code",
   "execution_count": 28,
   "metadata": {},
   "outputs": [],
   "source": [
    "import numpy as np  # Make sure that numpy is imported\n",
    "\n",
    "def makeFeatureVec(words, model, num_features):\n",
    "    # Function to average all of the word vectors in a given\n",
    "    # paragraph\n",
    "    #\n",
    "    # Pre-initialize an empty numpy array (for speed)\n",
    "    featureVec = np.zeros((num_features,),dtype=\"float32\")\n",
    "    #\n",
    "    nwords = 0\n",
    "    # \n",
    "    # Index2word is a list that contains the names of the words in \n",
    "    # the model's vocabulary. Convert it to a set, for speed \n",
    "    index2word_set = set(model.wv.index2word)\n",
    "    #\n",
    "    # Loop over each word in the review and, if it is in the model's\n",
    "    # vocaublary, add its feature vector to the total\n",
    "    for word in words:\n",
    "        if word in index2word_set: \n",
    "            nwords = nwords + 1\n",
    "            featureVec = np.add(featureVec,model[word])\n",
    "    # \n",
    "    # Divide the result by the number of words to get the average\n",
    "    featureVec = np.divide(featureVec,nwords)\n",
    "    return featureVec\n",
    "\n",
    "\n",
    "def getAvgFeatureVecs(reviews, model, num_features):\n",
    "    # Given a set of reviews (each one a list of words), calculate \n",
    "    # the average feature vector for each one and return a 2D numpy array \n",
    "    # \n",
    "    # Initialize a counter\n",
    "    counter = 0\n",
    "    # \n",
    "    # Preallocate a 2D numpy array, for speed\n",
    "    reviewFeatureVecs = np.zeros((len(reviews),num_features),dtype=\"float32\")\n",
    "    # \n",
    "    # Loop through the reviews\n",
    "    for review in reviews:\n",
    "       #\n",
    "       # Print a status message every 1000th review\n",
    "        if counter%1000. == 0.:\n",
    "            print (\"Review %d of %d\" , (counter, len(reviews)))\n",
    "       # \n",
    "       # Call the function (defined above) that makes average feature vectors\n",
    "        reviewFeatureVecs[counter] = makeFeatureVec(review, model, num_features)\n",
    "       #\n",
    "       # Increment the counter\n",
    "        counter = counter + 1\n",
    "    return reviewFeatureVecs"
   ]
  },
  {
   "cell_type": "code",
   "execution_count": 29,
   "metadata": {},
   "outputs": [
    {
     "name": "stdout",
     "output_type": "stream",
     "text": [
      "Review %d of %d (0, 25000)\n"
     ]
    },
    {
     "name": "stderr",
     "output_type": "stream",
     "text": [
      "/anaconda3/lib/python3.6/site-packages/ipykernel_launcher.py:21: DeprecationWarning: Call to deprecated `__getitem__` (Method will be removed in 4.0.0, use self.wv.__getitem__() instead).\n"
     ]
    },
    {
     "name": "stdout",
     "output_type": "stream",
     "text": [
      "Review %d of %d (1000, 25000)\n",
      "Review %d of %d (2000, 25000)\n",
      "Review %d of %d (3000, 25000)\n",
      "Review %d of %d (4000, 25000)\n",
      "Review %d of %d (5000, 25000)\n",
      "Review %d of %d (6000, 25000)\n",
      "Review %d of %d (7000, 25000)\n",
      "Review %d of %d (8000, 25000)\n",
      "Review %d of %d (9000, 25000)\n",
      "Review %d of %d (10000, 25000)\n",
      "Review %d of %d (11000, 25000)\n",
      "Review %d of %d (12000, 25000)\n",
      "Review %d of %d (13000, 25000)\n",
      "Review %d of %d (14000, 25000)\n",
      "Review %d of %d (15000, 25000)\n",
      "Review %d of %d (16000, 25000)\n",
      "Review %d of %d (17000, 25000)\n",
      "Review %d of %d (18000, 25000)\n",
      "Review %d of %d (19000, 25000)\n",
      "Review %d of %d (20000, 25000)\n",
      "Review %d of %d (21000, 25000)\n",
      "Review %d of %d (22000, 25000)\n",
      "Review %d of %d (23000, 25000)\n",
      "Review %d of %d (24000, 25000)\n",
      "Creating average feature vecs for test reviews\n",
      "Review %d of %d (0, 25000)\n",
      "Review %d of %d (1000, 25000)\n",
      "Review %d of %d (2000, 25000)\n",
      "Review %d of %d (3000, 25000)\n",
      "Review %d of %d (4000, 25000)\n",
      "Review %d of %d (5000, 25000)\n",
      "Review %d of %d (6000, 25000)\n",
      "Review %d of %d (7000, 25000)\n",
      "Review %d of %d (8000, 25000)\n",
      "Review %d of %d (9000, 25000)\n",
      "Review %d of %d (10000, 25000)\n",
      "Review %d of %d (11000, 25000)\n",
      "Review %d of %d (12000, 25000)\n",
      "Review %d of %d (13000, 25000)\n",
      "Review %d of %d (14000, 25000)\n",
      "Review %d of %d (15000, 25000)\n",
      "Review %d of %d (16000, 25000)\n",
      "Review %d of %d (17000, 25000)\n",
      "Review %d of %d (18000, 25000)\n",
      "Review %d of %d (19000, 25000)\n",
      "Review %d of %d (20000, 25000)\n",
      "Review %d of %d (21000, 25000)\n",
      "Review %d of %d (22000, 25000)\n",
      "Review %d of %d (23000, 25000)\n",
      "Review %d of %d (24000, 25000)\n"
     ]
    }
   ],
   "source": [
    "# ****************************************************************\n",
    "# Calculate average feature vectors for training and testing sets,\n",
    "# using the functions we defined above. Notice that we now use stop word\n",
    "# removal.\n",
    "\n",
    "clean_train_reviews = []\n",
    "for review in train[\"review\"]:\n",
    "    clean_train_reviews.append( review_to_wordlist( review, remove_stopwords=True ))\n",
    "\n",
    "trainDataVecs = getAvgFeatureVecs( clean_train_reviews, model, num_features )\n",
    "\n",
    "print (\"Creating average feature vecs for test reviews\")\n",
    "clean_test_reviews = []\n",
    "for review in test[\"review\"]:\n",
    "    clean_test_reviews.append( review_to_wordlist( review, remove_stopwords=True ))\n",
    "\n",
    "testDataVecs = getAvgFeatureVecs( clean_test_reviews, model, num_features )"
   ]
  },
  {
   "cell_type": "code",
   "execution_count": 30,
   "metadata": {},
   "outputs": [
    {
     "name": "stdout",
     "output_type": "stream",
     "text": [
      "Fitting a random forest to labeled training data...\n"
     ]
    }
   ],
   "source": [
    "# Fit a random forest to the training data, using 100 trees\n",
    "from sklearn.ensemble import RandomForestClassifier\n",
    "forest = RandomForestClassifier( n_estimators = 100 )\n",
    "\n",
    "print (\"Fitting a random forest to labeled training data...\")\n",
    "forest = forest.fit( trainDataVecs, train[\"sentiment\"] )\n",
    "\n",
    "# Test & extract results \n",
    "result = forest.predict( testDataVecs )\n",
    "\n",
    "# Write the test results \n",
    "output = pd.DataFrame( data={\"id\":test[\"id\"], \"sentiment\":result} )\n",
    "output.to_csv( \"Word2Vec_AverageVectors.csv\", index=False, quoting=3 )"
   ]
  },
  {
   "cell_type": "code",
   "execution_count": null,
   "metadata": {},
   "outputs": [],
   "source": []
  }
 ],
 "metadata": {
  "kernelspec": {
   "display_name": "Python 3",
   "language": "python",
   "name": "python3"
  },
  "language_info": {
   "codemirror_mode": {
    "name": "ipython",
    "version": 3
   },
   "file_extension": ".py",
   "mimetype": "text/x-python",
   "name": "python",
   "nbconvert_exporter": "python",
   "pygments_lexer": "ipython3",
   "version": "3.6.4"
  }
 },
 "nbformat": 4,
 "nbformat_minor": 2
}
